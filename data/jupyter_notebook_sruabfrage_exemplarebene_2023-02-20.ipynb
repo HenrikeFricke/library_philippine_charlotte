{
 "cells": [
  {
   "cell_type": "markdown",
   "id": "e8e25d2d",
   "metadata": {},
   "source": [
    "Mit diesem Jupyter Notbook werden bibl. Daten der Exemplarebene von der K10plus-HAB-Schnittstelle http://sru.k10plus.de/opac-de-23 abgerufen und Datenfelder der SRU-Antwort mit Hilfe von XPath-Abfragen gezielt durchsucht sowie deren Inhalt an eine CSV-Datei übergeben. Das Notebook ist im Rahmen der Masterarbeit \"Digitale Erschließung, Analyse und Visualisierung der\n",
    "Handbibliothek von Herzogin Philippine Charlotte von Braunschweig-Lüneburg. Forschungsdatenmanagement in Kooperation\n",
    "zwischen Forschung und Bibliothek.\" im Studiengang Digitales Datenmanagement der FH Potsdam/HU Berlin entstanden.\n",
    "\n",
    "Die nachfolgenden Funktionen sind zum weiteren Verständnis auskommentiert.\n",
    "Ich danke Dario Kampkasper (DK) für seine Expertise und Unterstützung beim Erstellen des Codes.\n",
    "2023-02-20 Henrike Fricke-Steyer"
   ]
  },
  {
   "cell_type": "code",
   "execution_count": null,
   "id": "810808de",
   "metadata": {},
   "outputs": [],
   "source": [
    "#Import der benötigten Python-Bibliothken\n",
    "import pandas as pd\n",
    "import requests \n",
    "from lxml import etree\n",
    "import csv"
   ]
  },
  {
   "cell_type": "code",
   "execution_count": 142,
   "id": "1224cf4a",
   "metadata": {},
   "outputs": [
    {
     "name": "stdout",
     "output_type": "stream",
     "text": [
      "1326\n"
     ]
    }
   ],
   "source": [
    "#Einlesen einer Datei mit Identifikationsnummern (IDNs) und Umwandlung der Spalte IDN in Liste die auf dem eigenen \n",
    "#Computer liegt, der Pfad \"C:/...csv\" muss entsprechend ersetzt werden: \n",
    "colnames=['IDN']\n",
    "\n",
    "ns = {\n",
    "    \"pica\": \"info:srw/schema/5/picaXML-v1.0\"\n",
    "}\n",
    "\n",
    "data = pd.read_csv(\"C:/...csv\", names=colnames, header=None)\n",
    "idns = data['IDN'].to_list()\n",
    "print(len(idns))"
   ]
  },
  {
   "cell_type": "code",
   "execution_count": 143,
   "id": "6885ff59",
   "metadata": {},
   "outputs": [],
   "source": [
    "#gekürzte Funktion zur Abfrage der IDNs aus dem SRU-Tutorial (www.dnb.de/dnblabtutorials)\n",
    "#Schleife zur SRU-Abfrage, spricht die Schnittstelle an, Parameter in entsprechender Reihenfolge angepasst\n",
    "def sru(query):\n",
    "    \n",
    "    base_url = \"http://sru.k10plus.de/opac-de-23\"\n",
    "    params = {'version': '1.1',\n",
    "              'operation': 'searchRetrieve',                    \n",
    "              'query': query,\n",
    "              'maximumRecords': '100',\n",
    "              'recordSchema' : 'picaxml'\n",
    "         }\n",
    "    r = requests.get(base_url, params=params)\n",
    "    \n",
    "    ns = {\n",
    "        \"zs\":\"http://www.loc.gov/zing/srw/\",\n",
    "        \"pica\": \"info:srw/schema/5/picaXML-v1.0\"\n",
    "    }\n",
    "    xml = etree.fromstring(r.content)\n",
    "    records = xml.xpath(\"//zs:recordData/pica:record\", namespaces=ns)\n",
    "    \n",
    "    return records\n",
    "    "
   ]
  },
  {
   "cell_type": "code",
   "execution_count": 144,
   "id": "9e6d64e5",
   "metadata": {},
   "outputs": [
    {
     "name": "stdout",
     "output_type": "stream",
     "text": [
      "1326\n"
     ]
    }
   ],
   "source": [
    "#Übergabe der einzelnen Elemente aus der IDN-Liste an die Funktion, um für jedes Element eine SRU-Abfrage \n",
    "#auszulösen. Die Ergebnisse der einzelnen Abfragen werden als Liste in der Variable \"response\" gespeichert\n",
    "response = [sru(searchtext) for searchtext in idns]\n",
    "\n",
    "#Ausgabe der Anzahl der in der Liste enthaltenen Elemente - diese sollte mit der Anzahl der abgefragten\n",
    "#IDNs übereinstimmen. \n",
    "print (len(response))"
   ]
  },
  {
   "cell_type": "code",
   "execution_count": 145,
   "id": "656ecf7e",
   "metadata": {},
   "outputs": [],
   "source": [
    "#Ausgabe der gesammelten Treffer in einer Datei\n",
    "# 2022-10-21 DK\n",
    "resultTree = etree.ElementTree()\n",
    "recordsElement = etree.Element('records')\n",
    "resultTree._setroot(recordsElement)\n",
    "\n",
    "for record in response: \n",
    "    recordsElement.append(record[0])\n",
    "\n",
    "with open ('data.xml', 'wb',) as f:\n",
    "    resultTree.write(f, encoding='utf-8')"
   ]
  },
  {
   "cell_type": "code",
   "execution_count": 146,
   "id": "af6a7d87",
   "metadata": {},
   "outputs": [],
   "source": [
    "#Hilfsfunktion, um ein wiederholbares Fedl abzurufen (inkl. Unterfelder)\n",
    "# 2023-01-21 DK\n",
    "def get_repeatable ( xml, *fields ):\n",
    "    values = []\n",
    "    for field in fields:\n",
    "        xpath = \"pica:datafield[@tag='\" + field + \"']\"\n",
    "        values.extend(xml.xpath(xpath, namespaces=ns))\n",
    "    \n",
    "    return values"
   ]
  },
  {
   "cell_type": "code",
   "execution_count": 147,
   "id": "24e6dde2",
   "metadata": {},
   "outputs": [],
   "source": [
    "# Hilfsfunktion, um für eine Liste von Unterfeldern die Werte abzurufen\n",
    "#2023-01-21 DK \n",
    "def get_subfields ( xml, subfields ):\n",
    "    values = []\n",
    "    for subfield in subfields:\n",
    "        xpath = \"pica:subfield[@code = '\" + subfield + \"']/text()\"\n",
    "        try:\n",
    "            val = xml.xpath(xpath, namespaces=ns)\n",
    "            values.append(val[0])\n",
    "        except:\n",
    "            \"leer\"\n",
    "    \n",
    "    if len(values):\n",
    "        return values[0]\n",
    "    else:\n",
    "        return \"leer\""
   ]
  },
  {
   "cell_type": "code",
   "execution_count": 148,
   "id": "326f6fda",
   "metadata": {},
   "outputs": [],
   "source": [
    "# Hilfsfunktion, um Unterfelder gezielt abzurufen\n",
    "# 2023-01-21 DK\n",
    "# Es wird immer nur das erste gefundene zurückgegeben, daher nur für nicht wiederholbare Felder verwenden\n",
    "def get_field ( xml, field, subfields ):\n",
    "    values = []\n",
    "    for subfield in subfields:\n",
    "        xpath = \"pica:datafield[@tag='\" + field + \"']/pica:subfield[@code = '\" + subfield + \"']/text()\"\n",
    "        try:\n",
    "            value = xml.xpath(xpath, namespaces=ns)[0]\n",
    "            values.append(value)\n",
    "        except:\n",
    "            \"leer\"\n",
    "    \n",
    "    try:\n",
    "        return next(value for value in values if value)\n",
    "    except:\n",
    "        \"leer\""
   ]
  },
  {
   "cell_type": "code",
   "execution_count": 149,
   "id": "0b6aad33",
   "metadata": {},
   "outputs": [],
   "source": [
    "#Extraktion entsprechender Inhalte aus den einzelnen Records: \n",
    "# Funktion 2022-10-21 DK\n",
    "\n",
    "def parse_record(record):\n",
    "    xml = record[0]\n",
    " \n",
    "    \n",
    "    # ppn / 100\n",
    "    idn = xml.xpath(\"pica:datafield[@tag='003@']/pica:subfield[@code = '0']\", namespaces=ns)\n",
    "    try:\n",
    "        idn = idn[0].text\n",
    "    except:\n",
    "        idn = 'fail'\n",
    "    \n",
    "\n",
    "# Signaturen 209A=7100 kann wiederholt werden\n",
    "    weitereSgnKategorien = get_repeatable(xml, '209A') \n",
    "    weitereSgn = []\n",
    "    for kat in weitereSgnKategorien:\n",
    "        weitereSgn.append([\n",
    "            get_subfields(kat, ['a', 'A']),\n",
    "           \n",
    "        ])\n",
    "    \n",
    "    sgn1 = \"leer\"\n",
    "    sgn2 = \"leer\"\n",
    "    sgn3 = \"leer\"\n",
    "    sgn4 = \"leer\"\n",
    "    sgn5 = \"leer\"\n",
    "     \n",
    "\n",
    "    try:\n",
    "        sgn1 = weitereSgn[0][0]\n",
    "        sgn2 = weitereSgn[1][0]\n",
    "        sgn3 = weitereSgn[2][0]\n",
    "        sgn4 = weitereSgn[3][0]\n",
    "        sgn5 = weitereSgn[4][0]\n",
    "      \n",
    "        \n",
    "    except:\n",
    "        pass\n",
    "    \n",
    "      \n",
    "    \n",
    "# Anmerkungen 237A=4801 kann wiederholt werden\n",
    "    weitereAnmKategorien = get_repeatable(xml, '237A') \n",
    "    weitereAnm = []\n",
    "    for kat in weitereAnmKategorien:\n",
    "        weitereAnm.append([\n",
    "            get_subfields(kat, ['a', 'A']),\n",
    "           \n",
    "        ])\n",
    "    \n",
    "    anm1 = \"leer\"\n",
    "    anm2 = \"leer\"\n",
    "    anm3 = \"leer\"\n",
    "     \n",
    "\n",
    "    try:\n",
    "        anm1 = weitereAnm[0][0]\n",
    "        anm2 = weitereAnm[1][0]\n",
    "        anm3 = weitereAnm[2][0]\n",
    "        \n",
    "    except:\n",
    "        pass\n",
    "    \n",
    "# Provenienzen 244Z=6800 kann wiederholt werden\n",
    "    weiterePrvKategorien = get_repeatable(xml, '244Z') \n",
    "    weiterePrv = []\n",
    "    for kat in weiterePrvKategorien:\n",
    "        weiterePrv.append([\n",
    "            get_subfields(kat, ['a', 'A']),\n",
    "           \n",
    "        ])\n",
    "    \n",
    "    prv1 = \"leer\"\n",
    "    prv2 = \"leer\"\n",
    "    prv3 = \"leer\"\n",
    "     \n",
    "\n",
    "    try:\n",
    "        prv1 = weiterePrv[0][0]\n",
    "        prv2 = weiterePrv[1][0]\n",
    "        prv3 = weiterePrv[2][0]\n",
    "        \n",
    "    except:\n",
    "        pass\n",
    "        \n",
    "    meta_dict = {\n",
    "        \"PPN\":idn,\n",
    "        \"Signatur 1\":sgn1,\n",
    "        \"Signatur 2\":sgn2,\n",
    "        \"Signatur 3\":sgn3,\n",
    "        \"Signatur 4\":sgn4,\n",
    "        \"Signatur 5\":sgn5,\n",
    "        \"Anmerkung 1\":anm1,\n",
    "        \"Anmerkung 2\":anm2,\n",
    "        \"Anmerkung 3\":anm3,\n",
    "        \"Provenienz 1\":prv1,\n",
    "        \"Provenienz 2\":prv2,\n",
    "        \"Provenienz 3\":prv3\n",
    "    }\n",
    "    \n",
    "    return meta_dict"
   ]
  },
  {
   "cell_type": "code",
   "execution_count": 150,
   "id": "c7eb799d",
   "metadata": {},
   "outputs": [],
   "source": [
    "#Übergabe der einzelnen Records an die Funktion und Ausgabe als DataFrame:\n",
    "output = [parse_record(record) for record in response]\n",
    "\n",
    "# print(output[0])\n",
    "df = pd.DataFrame(output)"
   ]
  },
  {
   "cell_type": "code",
   "execution_count": 151,
   "id": "dd1d490d",
   "metadata": {},
   "outputs": [],
   "source": [
    "#Ausgabe des DataFrames in CSV-Datei\n",
    "df.to_csv('sru_antwort.csv', sep ='\\t') "
   ]
  }
 ],
 "metadata": {
  "kernelspec": {
   "display_name": "Python 3",
   "language": "python",
   "name": "python3"
  },
  "language_info": {
   "codemirror_mode": {
    "name": "ipython",
    "version": 3
   },
   "file_extension": ".py",
   "mimetype": "text/x-python",
   "name": "python",
   "nbconvert_exporter": "python",
   "pygments_lexer": "ipython3",
   "version": "3.8.8"
  },
  "vscode": {
   "interpreter": {
    "hash": "916dbcbb3f70747c44a77c7bcd40155683ae19c65e1c03b4aa3499c5328201f1"
   }
  }
 },
 "nbformat": 4,
 "nbformat_minor": 5
}
